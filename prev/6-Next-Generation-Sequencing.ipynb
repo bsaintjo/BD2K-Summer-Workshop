{
 "cells": [
  {
   "cell_type": "markdown",
   "metadata": {
    "collapsed": true
   },
   "source": [
    "<img src=images/ucsc_banner.png width=500>\n",
    "# Next-Generation Sequencing"
   ]
  },
  {
   "cell_type": "markdown",
   "metadata": {
    "collapsed": true
   },
   "source": [
    "#### In the beginning..."
   ]
  },
  {
   "cell_type": "markdown",
   "metadata": {
    "collapsed": true
   },
   "source": [
    "\"So what hinders the different parts [of the body] from having this merely accidental relation in nature? as the teeth, for example, grow by necessity, the front ones sharp, adapted for dividing, and the grinders flat, and serviceable for masticating the food; since they were not made for the sake of this, but it was the result of accident. And in like manner as to the other parts in which there appears to exist an adaptation to an end. Wheresoever, therefore, all things together (that is all the parts of one whole) happened like as if they were made for the sake of something, these were preserved, having been appropriately constituted by an internal spontaneity, and whatsoever things were not thus constituted, perished, and still perish.\"\n",
    "\n",
    "Author of this quote?"
   ]
  },
  {
   "cell_type": "markdown",
   "metadata": {
    "collapsed": true
   },
   "source": [
    "<img src=images/darwin.jpg width=250>\n",
    "\n",
    "Darwin?"
   ]
  },
  {
   "cell_type": "markdown",
   "metadata": {
    "collapsed": true
   },
   "source": [
    "<img src=images/aristotle.jpg width=250>\n",
    "\n",
    "Surprise!  Aristotle (~350 BC) said this in *Physics: Book II*, then in the paragraph following, immediately discredited the idea. Despite this, it's awe-inspiring that such idea was even entertained and written about at such a period in history."
   ]
  },
  {
   "cell_type": "markdown",
   "metadata": {},
   "source": [
    "## Pre-Sequencing\n",
    "\n",
    "After Darwin's proposal of natural selection in *The Origin of Species* (1872), how did scientists piece together relation of the species?\n",
    "\n",
    "<img src=images/phylogeny.jpg width=750>\n",
    "<center> From Barnes et al. (1985) </center>\n",
    "\n",
    "Biologists and naturalists could only make educated guesses about species relationionships by examining closely related modern species and attempting to link those species to a fossil whose phenotype was believed to be inbetween the two. As you can imagine, this isn't the most rigorous scientific process and was a source of contention not only between biologists but also among a general public who weren't quite sold on the idea of evolution and natural selection.\n",
    "\n",
    "What discovery solidified the case for evolution?"
   ]
  },
  {
   "cell_type": "markdown",
   "metadata": {},
   "source": [
    "## Sequencing\n",
    "\n",
    "Watson and Crick discovered the structural shape of DNA, as well as hinting that the base pairing mechanism of DNA offered an explanation of how information is stored within its structure.\n",
    "\n",
    "But arguably just as important, was the discovery that DNA itself is the genetic material of life which happened just one year prior (1952).\n",
    "\n",
    "<img src=images/hc_exp.png width=600>\n",
    "<center> By Thomasione - Modified from German Wikipedia [1], GFDL, https://commons.wikimedia.org/w/index.php?curid=15034881 </center>\n",
    "\n",
    "\n",
    "This discovery caused a paradigm shift in biology — evidence now existed for hypotheses that were once relegated to the domain of the unknowable. Scientists instantly realized the value of this knowledge, but it took another *twenty years* to develop the technology necessary to sequence the first tiny bacterial and viral genomes."
   ]
  },
  {
   "cell_type": "markdown",
   "metadata": {},
   "source": [
    "### Sanger Sequencing\n",
    "\n",
    "<img src=images/sanger_sequencing.png width=750>\n",
    "<center> Estevezj </center>\n",
    "\n",
    "This is a more modern version — originally, the individual groups were run on gels\n",
    "\n",
    "<img src=images/sanger_gel.jpg width=250>\n",
    "<center> John Schmidt </center>\n",
    "\n",
    "#### The Human Genome Project\n",
    "\n",
    "Due to its accuracy, Sanger Sequencing was the principle method employed by *The Human Genome Project* to obtain all of the sequence information in a human genome — a whopping ~3 *billion* basepairs. By comparison, the first genome sequenced, *Bacteriophage MS2*, is only ~3,500 basepairs and the genome it infects, *E. coli*, has ~5 million base pairs.\n",
    "\n",
    "<img src=images/jkent.jpg width=250>\n",
    "<center> Jim Kent </center>\n",
    "\n",
    "\"His efforts were motivated by the research needs of himself and his colleagues, but also out of concern that the data might be made proprietary via patents by Celera Genomics. In their close race with Celera, Kent and the UCSC Professor David Haussler quickly built a modest cluster of 50 commodity Personal Computers running the Linux operating system to run the software. In contrast, Celera was using what was thought then to be one of the most powerful civilian supercomputers in the world. Kent's first assembly on the human genome was released on June 22. Celera finished its assembly 3 days later on June 25, and the dual results were announced at the White House on June 26. On July 7, 2000, the Santa Cruz data was made publicly available on the World Wide Web while the research paper describing this publicly funded genome was published in February 2001 special issue of Nature\" \n",
    "\n",
    "<br>\n",
    "<center>International Human Genome Sequencing Consortium (2001). \"Initial sequencing and analysis of the human genome\" Nature 409 (6822): 860–921. doi:10.1038/35057062. PMID 11237011.</center>"
   ]
  },
  {
   "cell_type": "markdown",
   "metadata": {},
   "source": [
    "### Next Generation Sequencing\n",
    "\n",
    "Sequencing has come a long way since Sanger sequencing:\n",
    "\n",
    "<img src=images/seq_costs.png width=600>\n",
    "<center> National Human Genome Research Institute </center>\n",
    "\n"
   ]
  },
  {
   "cell_type": "markdown",
   "metadata": {},
   "source": [
    "#### Sequencing by Synthesis\n",
    "We don't have time to cover every sequencing technology, but arguably the most important and widely used modern sequencing method is Illumina's *Sequencing by Synthesis* (SBS) technqiue. \n",
    "\n",
    "Sample DNA is sheared into ~200bp fragments, adapters are attached to the ends, and colonies are formed on a *lawn* using a technique called *bridge amplification* or *lawn amplification*.\n",
    "\n",
    "<img src=images/bridge_amplification.png width=600>\n",
    "<center> DMLapato </center>\n",
    "\n",
    "This technique creates *millions* of clusters which are then sequenced:\n",
    "\n",
    "<img src=images/sbs.png width=600>\n",
    "<center> http://binf.snipcademy.com/lessons/ngs-techniques/illumina-solexa </center>\n",
    "\n",
    "In parallel, these millions of clusters are sequenced to produce *reads*. SBS is popular due to its throughput (how fast can these genomes be sequenced), its accuracy (99.9%), and its cost."
   ]
  },
  {
   "cell_type": "markdown",
   "metadata": {},
   "source": [
    "#### Nanopores\n",
    "\n",
    "Recently, a possible contender to sequencing-by-synthesis has emerged. Nanopore sequencing is an incredibly innovative technique for sequencing DNA, with the most important advantage being the raw *length* of DNA that can be sequenced.  SBS only works on small ~200bp fragments, which is difficult when mapping to highly repetitious regions of the human genome like chromosomal centromere. The current hurdle for Nanopore sequencing is its accuracy, which is estimated to be betwen 70-80%. \n",
    "\n",
    "<img src=images/nanopore.jpg width=500>"
   ]
  },
  {
   "cell_type": "markdown",
   "metadata": {},
   "source": [
    "## Phred Score\n",
    "\n",
    "Most read data comes in *FASTQ* format, which at first glance, looks like a bunch of garbage.\n",
    "\n",
    "```\n",
    "@SEQ_ID\n",
    "GATTTGGGGTTCAAAGCAGTATCGATCAAATAGTAAATCCATTTGTTCAACTCACAGTTT\n",
    "+\n",
    "!''*((((***+))%%%++)(%%%%).1***-+*''))**55CCF>>>>>>CCCCCCC65\n",
    "```\n",
    "\n",
    "A FASTQ file has 4 lines for every *read* of DNA. \n",
    "\n",
    "1. Sequence ID line\n",
    "2. Sequence of read\n",
    "3. Seperator\n",
    "4. Quality Score of sequence\n",
    "\n",
    "There is one quality score character for every base in the sequence, i.e. `len(line2) == len(line4)`.  As the sequence is produced, scores are computed, following some heuristic, that represent how *confident* the machine is that it called the base correctly. \n",
    "\n",
    "The `!` represents the lowest quality score while `~` represents the highest. \n",
    "\n",
    "```\n",
    "!\"#$%&'()*+,-./0123456789:;<=>?@ABCDEFGHIJKLMNOPQRSTUVWXYZ[\\]^_`abcdefghijklmnopqrstuvwxyz{|}~\n",
    "\n",
    "0 --------------PHRED----------------- 40 -----------------------SCORE-------------------- 126\n",
    "```\n",
    "\n",
    "<img src=images/phred.png width=500>\n",
    "\n",
    "Typically, PHRED scores only go up to a maximum of 40 on most modern modern machines."
   ]
  },
  {
   "cell_type": "markdown",
   "metadata": {},
   "source": [
    "## Variant Calling Exercise\n",
    "\n",
    "Given the information you learned in Module 5, its understandable why you'd want to look for *mutations* or *variants* within a sample.  In this exercise, we'll find Single Nucleotide Variations (SNVs) in some *E. coli* data.\n",
    "\n",
    "\n",
    "In the **data** subdirectory of this repository, is a folder called **variant_calling** with this directory structure:\n",
    "```\n",
    "variant_calling\n",
    "├── ref_genome\n",
    "│   └── ecoli_rel606.fasta\n",
    "└── trimmed_fastq\n",
    "    ├── SRR097977.fastq\n",
    "    ├── SRR098026.fastq\n",
    "    ├── SRR098027.fastq\n",
    "    ├── SRR098028.fastq\n",
    "    ├── SRR098281.fastq\n",
    "    └── SRR098283.fastq\n",
    "```\n",
    "\n",
    "The fastq files are *sequence reads* from several samples, which we'll compare to the *reference genome* to look for variants.\n",
    "\n",
    "In this exercise we'll:\n",
    "\n",
    "1. Index the reference genome for use by bwa and samtools\n",
    "2. Align reads to reference genome\n",
    "3. Convert the format of the alignment to sorted BAM, with some intermediate steps.\n",
    "4. Calculate the read coverage of positions in the genome\n",
    "5. Detect the single nucleotide polymorphisms (SNPs)\n",
    "6. Filter and report the SNP variants in VCF (variant calling format)\n",
    "\n",
    "All these commands should be typed into the remote shell's terminal, *not* in this notebook.\n",
    "\n",
    "```\n",
    "cd data/variant_calling\n",
    "```\n",
    "\n",
    "To simply things, we'll assign the genome to a variable, which we can then reference with `$genome`\n",
    "\n",
    "```\n",
    "genome=ref_genome/ecoli_rel606.fasta\n",
    "```\n",
    "\n",
    "We need to index the reference genome for bwa and samtools. bwa and samtools are programs that are pre-installed on our server.\n",
    "\n",
    "```\n",
    "bwa index $genome\n",
    "samtools faidx $genome\n",
    "```\n",
    "\n",
    "Create output paths for various intermediate and result files The -p option means mkdir will create the whole path if it does not exist (no error or message will give given if it does exist)\n",
    "\n",
    "```\n",
    "mkdir -p results/sai\n",
    "mkdir -p results/sam\n",
    "mkdir -p results/bam\n",
    "mkdir -p results/bcf\n",
    "mkdir -p results/vcf\n",
    "```\n",
    "\n",
    "Let's start with a single sample: SRR097977.fastq.  Later, we'll discuss how you would automate this for *all* samples.\n",
    "\n",
    "Let's define some variables to make it easier to see what's going on with the commands we'll use below:\n",
    "```\n",
    "base=$(basename trimmed_fastq/SRR097977.fastq .fastq)\n",
    "fq=data/trimmed_fastq/$base\\.fastq\n",
    "sai=results/sai/$base\\_aligned.sai\n",
    "sam=results/sam/$base\\_aligned.sam\n",
    "bam=results/bam/$base\\_aligned.bam\n",
    "sorted_bam=results/bam/$base\\_aligned_sorted.bam\n",
    "raw_bcf=results/bcf/$base\\_raw.bcf\n",
    "variants=results/bcf/$base\\_variants.bcf\n",
    "final_variants=results/vcf/$base\\_final_variants.vcf   \n",
    "```\n",
    "\n",
    "1. Align the reads to the reference genome\n",
    "```\n",
    "bwa aln $genome $fq > $sai\n",
    "```\n",
    "\n",
    "2. Convert the output to SAM format (uncompressed alignment)\n",
    "```\n",
    "bwa samse $genome $sai $fq > $sam\n",
    "```\n",
    "\n",
    "3. Convert the SAM file to BAM (compressed) format\n",
    "```\n",
    "samtools view -S -b $sam > $bam\n",
    "```\n",
    "\n",
    "4. Sort the BAM file (usually by chromosome)\n",
    "```\n",
    "samtools sort -f $bam $sorted_bam\n",
    "```\n",
    "\n",
    "5. Index the BAM file (where each chromosome is in the sequence)\n",
    "```\n",
    "samtools index $sorted_bam\n",
    "```\n",
    "\n",
    "6. Count the read coverage as a preliminary step to variant calling\n",
    "```\n",
    "samtools mpileup -g -f $genome $sorted_bam > $raw_bcf\n",
    "```\n",
    "\n",
    "7. Call the SNVs\n",
    "```\n",
    "bcftools view -bvcg $raw_bcf > $variants\n",
    "```\n",
    "\n",
    "8. Filter the SNVs to get a final output\n",
    "```\n",
    "bcftools view $variants | /usr/share/samtools/vcfutils.pl varFilter - > $final_variants\n",
    "```\n",
    "\n",
    "Nicely done! But you have 5 samples remaining, how would you automate this process?\n",
    "\n",
    "TIP: bash has *loops*, which follow the syntax\n",
    "```\n",
    "for x in y\n",
    "do \n",
    "    <command(s)>\n",
    "done\n",
    "```\n",
    "\n",
    "You could write a bash script that starts with:\n",
    "```\n",
    "for fq in trimed_fastq/*.fastq\n",
    "do\n",
    "    <all the above commands>\n",
    "done\n",
    "```\n",
    "\n",
    "Use `less` or `head` to examine your VCF files located in **results/vcf**.  Write a short explanation for what you think is stored in this file and what format it is in.\n",
    "\n",
    "\n",
    "Credits for this exercise: https://github.com/JasonJWilliamsNY and DataCarpentry."
   ]
  },
  {
   "cell_type": "markdown",
   "metadata": {},
   "source": [
    "NIH BD2K Center for Big Data in Translational Genomics, UCSC Genomics Institute"
   ]
  }
 ],
 "metadata": {
  "kernelspec": {
   "display_name": "Python 3",
   "language": "python",
   "name": "python3"
  },
  "language_info": {
   "codemirror_mode": {
    "name": "ipython",
    "version": 3
   },
   "file_extension": ".py",
   "mimetype": "text/x-python",
   "name": "python",
   "nbconvert_exporter": "python",
   "pygments_lexer": "ipython3",
   "version": "3.7.3"
  }
 },
 "nbformat": 4,
 "nbformat_minor": 1
}
