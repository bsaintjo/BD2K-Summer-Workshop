{
 "cells": [
  {
   "cell_type": "markdown",
   "metadata": {},
   "source": [
    "To do:\n",
    "    can everyone use curl to download the index?\n",
    "    \n",
    "    show how to set up notebook in R before opening this\n",
    "    \n",
    "    https://docs.anaconda.com/anaconda/navigator/tutorials/r-lang/"
   ]
  },
  {
   "cell_type": "markdown",
   "metadata": {},
   "source": [
    "# Downloading the fastq files"
   ]
  },
  {
   "cell_type": "markdown",
   "metadata": {},
   "source": [
    "Make a new directory on your computer for todays project.\n",
    "\n",
    "On my laptop I am using:\n",
    "\n",
    "    \"/Users/alexis/Desktop/bd2k/\"\n",
    "    \n",
    "Inside of the BD2K folder I will make a folder to save the fastq files.\n",
    "\n",
    "    \"/Users/alexis/Desktop/bd2k/fastq\"\n",
    "  \n",
    "`curl -O https://users.soe.ucsc.edu/~bsaintjo/sacCer3_aligned/SRR5494631.fastq.gz`\n",
    "\n",
    "`curl -O https://users.soe.ucsc.edu/~bsaintjo/sacCer3_aligned/SRR5494630.fastq.gz`\n",
    "\n",
    "`curl -O https://users.soe.ucsc.edu/~bsaintjo/sacCer3_aligned/SRR5494629.fastq.gz`\n",
    "\n",
    "\n",
    "`curl -O https://users.soe.ucsc.edu/~bsaintjo/sacCer3_aligned/SRR5494628.fastq.gz`\n"
   ]
  },
  {
   "cell_type": "markdown",
   "metadata": {},
   "source": [
    "condition: samples\n",
    "    \n",
    "euploid:\n",
    "\n",
    "    SRR5494631    SRR5494630\n",
    "    \n",
    "aneuploid:\n",
    "\n",
    "    SRR5494629    SRR5494628 "
   ]
  },
  {
   "cell_type": "markdown",
   "metadata": {},
   "source": [
    "# Running kallisto"
   ]
  },
  {
   "cell_type": "markdown",
   "metadata": {},
   "source": [
    "`kallisto` is the alignment-free transcript quantifier we will be using. In order to download it, follow the link below to the download page for it.\n",
    "\n",
    "Download the version of kallisto for your operating system\n",
    "[Windows](https://github.com/pachterlab/kallisto/releases/download/v0.46.0/kallisto_windows-v0.46.0.zip)\n",
    "[Linux](https://github.com/pachterlab/kallisto/releases/download/v0.46.0/kallisto_linux-v0.46.0.tar.gz)\n",
    "[Mac](https://github.com/pachterlab/kallisto/releases/download/v0.46.0/kallisto_mac-v0.46.0.tar.gz)"
   ]
  },
  {
   "cell_type": "markdown",
   "metadata": {},
   "source": [
    "Download the index\n",
    "https://github.com/pachterlab/kallisto-transcriptome-indices/releases/download/94/Saccharomyces_cerevisiae.R64-1-1.cdna.all.release-94_k31.idx.gz"
   ]
  },
  {
   "cell_type": "markdown",
   "metadata": {},
   "source": [
    "#### Building the index\n",
    "\n",
    "Before we run kallisto we need to build the index. Download the transcriptome.\n",
    "\n",
    "\n",
    "    Usage: kallisto index [arguments] FASTA-files\n",
    "\n",
    "    Required argument:\n",
    "    -i, --index=STRING          Filename for the kallisto index to be constructed \n",
    "\n",
    "    \n",
    "`kallisto index -i \tHomo_sapiens.GRCh38.cdna.all.release-94_k31.idx\tHomo_sapiens.GRCh38.cdna.all.fa.gz`\n",
    "\n",
    "\n",
    "More help for building the index: https://github.com/pachterlab/kallisto-transcriptome-indices"
   ]
  },
  {
   "cell_type": "markdown",
   "metadata": {},
   "source": [
    "#### Running kallisto\n",
    "There are a total of 4 samples and you will need to run kallisto on each sample individually.\n",
    "\n",
    "    Usage: kallisto quant [arguments] FASTQ-files\n",
    "\n",
    "    arguments:\n",
    "    -i, --index=STRING            Filename for the kallisto index to be used for\n",
    "                              quantification\n",
    "                              \n",
    "    -o, --output-dir=STRING       Directory to write output to\n",
    "\n",
    "\n",
    "    -b, --bootstrap-samples=INT   Number of bootstrap samples (default: 0)\n",
    "\n",
    "*from within the fastq directory*\n",
    "\n",
    "##### euploid samples\n",
    "\n",
    "`kallisto quant -i /Users/alexis/Desktop/bd2k/Saccharomyces_cerevisiae.R64-1-1.cdna.all.release-94_k31.idx -o /Users/alexis/Desktop/bd2k/kallisto_outputs/SRR5494631 --single -b 100 -l 200 -s 20 -t 2  SRR5494631.fastq.gz `\n",
    "\n",
    "`kallisto quant -i /Users/alexis/Desktop/bd2k/Saccharomyces_cerevisiae.R64-1-1.cdna.all.release-94_k31.idx -o /Users/alexis/Desktop/bd2k/kallisto_outputs/SRR5494630 --single -b 100 -l 200 -s 20 -t 2  SRR5494630.fastq.gz`\n",
    "##### aneuploid samples\n",
    "\n",
    "`kallisto quant -i /Users/alexis/Desktop/bd2k/Saccharomyces_cerevisiae.R64-1-1.cdna.all.release-94_k31.idx -o /Users/alexis/Desktop/bd2k/kallisto_outputs/SRR5494629 --single -b 100 -l 200 -s 20 -t 2  SRR5494629.fastq.gz`\n",
    "\n",
    "`kallisto quant -i /Users/alexis/Desktop/bd2k/Saccharomyces_cerevisiae.R64-1-1.cdna.all.release-94_k31.idx -o /Users/alexis/Desktop/bd2k/kallisto_outputs/SRR5494628 --single -b 100 -l 200 -s 20 -t 2  SRR5494628.fastq.gz`"
   ]
  },
  {
   "cell_type": "markdown",
   "metadata": {},
   "source": [
    "# Running Sleuth"
   ]
  },
  {
   "cell_type": "code",
<<<<<<< HEAD
   "execution_count": null,
   "metadata": {},
   "outputs": [],
   "source": [
    "source(\"http://bioconductor.org/biocLite.R\")\n",
    "biocLite(\"rhdf5\")\n",
    "install.packages(\"devtools\")\n"
   ]
  },
  {
   "cell_type": "markdown",
   "metadata": {},
   "source": [
    "#### Installing Sleuth\n",
    "In the terminal, activate the new conda environment you made using the anaconda navigator:\n",
    "\n",
    "`source activate bd2k-R`\n",
=======
   "execution_count": 2,
   "metadata": {},
   "outputs": [
    {
     "name": "stderr",
     "output_type": "stream",
     "text": [
      "Installing package into ‘/home/splicecity/R/x86_64-pc-linux-gnu-library/3.4’\n",
      "(as ‘lib’ is unspecified)\n",
      "Warning message:\n",
      "“package ‘BiocManager’ is not available (for R version 3.4.4)”"
     ]
    },
    {
     "ename": "ERROR",
     "evalue": "Error in loadNamespace(name): there is no package called ‘BiocManager’\n",
     "output_type": "error",
     "traceback": [
      "Error in loadNamespace(name): there is no package called ‘BiocManager’\nTraceback:\n",
      "1. BiocManager::install",
      "2. getExportedValue(pkg, name)",
      "3. asNamespace(ns)",
      "4. getNamespace(ns)",
      "5. tryCatch(loadNamespace(name), error = function(e) stop(e))",
      "6. tryCatchList(expr, classes, parentenv, handlers)",
      "7. tryCatchOne(expr, names, parentenv, handlers[[1L]])",
      "8. value[[3L]](cond)"
     ]
    }
   ],
   "source": [
    "#instlalling sleuth\n",
    "if (!requireNamespace(\"BiocManager\", quietly = TRUE))\n",
    "    install.packages(\"BiocManager\")\n",
    "BiocManager::install()\n",
>>>>>>> ff7e4fae3d1aef033dbc4a50870384cfef29c8a4
    "\n",
    "Use conda to install sleuth:\n",
    "\n",
    "`conda install --channel bioconda r-sleuth`\n",
    "\n",
    "Now check that sleuth is installed..."
   ]
  },
  {
   "cell_type": "code",
   "execution_count": null,
   "metadata": {},
   "outputs": [],
   "source": [
    "library(\"sleuth\")\n"
   ]
  },
  {
   "cell_type": "code",
   "execution_count": null,
   "metadata": {},
   "outputs": [],
   "source": [
    "#### Installing biomart\n",
    "We will need a package named biomart to convert gene id to gene names"
   ]
  },
  {
   "cell_type": "code",
   "execution_count": null,
   "metadata": {},
   "outputs": [],
   "source": [
    "if (!requireNamespace(\"BiocManager\", quietly = TRUE))\n",
    "    install.packages(\"BiocManager\")\n",
    "\n",
    "BiocManager::install(\"biomaRt\")"
   ]
  },
  {
   "cell_type": "code",
   "execution_count": null,
   "metadata": {},
   "outputs": [],
   "source": [
    "library(\"biomaRt\")"
   ]
  }
 ],
 "metadata": {
  "kernelspec": {
   "display_name": "R",
   "language": "R",
   "name": "ir"
  },
  "language_info": {
   "codemirror_mode": "r",
   "file_extension": ".r",
   "mimetype": "text/x-r-source",
   "name": "R",
   "pygments_lexer": "r",
   "version": "3.4.4"
  }
 },
 "nbformat": 4,
 "nbformat_minor": 2
}
