{
 "cells": [
  {
   "cell_type": "markdown",
   "metadata": {},
   "source": [
    "To do:\n",
    "    can everyone use curl to download the index?\n",
    "    \n",
    "    show how to set up notebook in R before opening this\n",
    "    \n",
    "    https://docs.anaconda.com/anaconda/navigator/tutorials/r-lang/"
   ]
  },
  {
   "cell_type": "markdown",
   "metadata": {},
   "source": [
    "# Downloading the fastq files"
   ]
  },
  {
   "cell_type": "markdown",
   "metadata": {},
   "source": [
    "Make a new directory on your computer for todays project.\n",
    "\n",
    "On my laptop I am using:\n",
    "\n",
    "    \"/Users/alexis/Desktop/bd2k/\"\n",
    "    \n",
    "Inside of the BD2K folder I will make a folder to save the fastq files.\n",
    "\n",
    "    \"/Users/alexis/Desktop/bd2k/fastq\"\n",
    "    \n",
    "????? download by ?????????"
   ]
  },
  {
   "cell_type": "markdown",
   "metadata": {},
   "source": [
    "condition: samples\n",
    "    \n",
    "euploid:\n",
    "\n",
    "    SRR5494631    SRR5494630\n",
    "    \n",
    "aneuploid:\n",
    "\n",
    "    SRR5494629    SRR5494628 "
   ]
  },
  {
   "cell_type": "markdown",
   "metadata": {},
   "source": [
    "# Running kallisto"
   ]
  },
  {
   "cell_type": "markdown",
   "metadata": {},
   "source": [
    "Since everyone should now have anaconda installed you install kallisto by running...\n",
    "\n",
    "`conda install kallisto`\n",
    "\n",
    "\n",
    "https://pachterlab.github.io/kallisto/download"
   ]
  },
  {
   "cell_type": "markdown",
   "metadata": {},
   "source": [
    "#### Building the index\n",
    "\n",
    "Before we run kallisto we need to build the index. Download the transcriptome using...\n",
    "\n",
    "`curl -O ftp://ftp.ensembl.org/pub/release-94/fasta/homo_sapiens/cdna/Homo_sapiens.GRCh38.cdna.all.fa.gz`\n",
    "\n",
    "\n",
    "    Usage: kallisto index [arguments] FASTA-files\n",
    "\n",
    "    Required argument:\n",
    "    -i, --index=STRING          Filename for the kallisto index to be constructed \n",
    "\n",
    "    \n",
    "`kallisto index -i \tHomo_sapiens.GRCh38.cdna.all.release-94_k31.idx\tHomo_sapiens.GRCh38.cdna.all.fa.gz`\n",
    "\n",
    "\n",
    "More help for building the index: https://github.com/pachterlab/kallisto-transcriptome-indices"
   ]
  },
  {
   "cell_type": "markdown",
   "metadata": {},
   "source": [
    "#### Running kallisto\n",
    "There are a total of 4 samples and you will need to run kallisto on each sample individually.\n",
    "\n",
    "    Usage: kallisto quant [arguments] FASTQ-files\n",
    "\n",
    "    arguments:\n",
    "    -i, --index=STRING            Filename for the kallisto index to be used for\n",
    "                              quantification\n",
    "                              \n",
    "    -o, --output-dir=STRING       Directory to write output to\n",
    "\n",
    "\n",
    "    -b, --bootstrap-samples=INT   Number of bootstrap samples (default: 0)\n",
    "\n",
    "\n",
    "##### euploid samples\n",
    "\n",
    "`kallisto quant -i Homo_sapiens.GRCh38.cdna.all.release-94_k31.idx -o /path/to/SRR5494631 SRR5494631.fastq -b 100 `\n",
    "\n",
    "`kallisto quant -i Homo_sapiens.GRCh38.cdna.all.release-94_k31.idx -o /path/to/SRR5494630 SRR5494630.fastq -b 100 `\n",
    "\n",
    "##### aneuploid samples\n",
    "\n",
    "`kallisto quant -i Homo_sapiens.GRCh38.cdna.all.release-94_k31.idx -o /path/to/SRR5494629 SRR5494629.fastq -b 100 `\n",
    "\n",
    "`kallisto quant -i Homo_sapiens.GRCh38.cdna.all.release-94_k31.idx -o /path/to/SRR5494628 SRR5494628.fastq -b 100 `\n",
    "\n",
    "\n",
    "\n",
    "\n"
   ]
  },
  {
   "cell_type": "markdown",
   "metadata": {},
   "source": [
    "# Running Sleuth"
   ]
  },
  {
   "cell_type": "code",
   "execution_count": 8,
   "metadata": {},
   "outputs": [
    {
     "name": "stderr",
     "output_type": "stream",
     "text": [
      "Bioconductor version 3.9 (BiocManager 1.30.4), R 3.6.0 (2019-04-26)\n",
      "Update old packages: 'askpass', 'boot', 'caret', 'cluster', 'dbplyr', 'digest',\n",
      "  'dplyr', 'ellipsis', 'evaluate', 'formatR', 'fs', 'ggplot2', 'glmnet',\n",
      "  'gower', 'hexbin', 'ipred', 'IRkernel', 'knitr', 'markdown', 'MASS', 'mime',\n",
      "  'nlme', 'numDeriv', 'openssl', 'pillar', 'processx', 'progress', 'quantmod',\n",
      "  'repr', 'reprex', 'rlang', 'rmarkdown', 'rvest', 'tibble', 'tinytex', 'xfun',\n",
      "  'zoo'\n",
      "Bioconductor version 3.9 (BiocManager 1.30.4), R 3.6.0 (2019-04-26)\n",
      "Installing package(s) 'sleuth', 'biomaRt'\n",
      "Warning message:\n",
      "“package ‘sleuth’ is not available (for R version 3.6.0)”also installing the dependencies ‘bit’, ‘bit64’, ‘blob’, ‘memoise’, ‘bitops’, ‘BiocGenerics’, ‘Biobase’, ‘IRanges’, ‘RSQLite’, ‘S4Vectors’, ‘XML’, ‘RCurl’, ‘AnnotationDbi’\n",
      "\n",
      "Warning message in install.packages(pkgs = doing, lib = lib, repos = repos, ...):\n",
      "“installation of package ‘XML’ had non-zero exit status”Warning message in install.packages(pkgs = doing, lib = lib, repos = repos, ...):\n",
      "“installation of package ‘RCurl’ had non-zero exit status”Warning message in install.packages(pkgs = doing, lib = lib, repos = repos, ...):\n",
      "“installation of package ‘biomaRt’ had non-zero exit status”Updating HTML index of packages in '.Library'\n",
      "Making 'packages.html' ... done\n",
      "Update old packages: 'askpass', 'boot', 'caret', 'cluster', 'dbplyr', 'digest',\n",
      "  'dplyr', 'ellipsis', 'evaluate', 'formatR', 'fs', 'ggplot2', 'glmnet',\n",
      "  'gower', 'hexbin', 'ipred', 'IRkernel', 'knitr', 'markdown', 'MASS', 'mime',\n",
      "  'nlme', 'numDeriv', 'openssl', 'pillar', 'processx', 'progress', 'quantmod',\n",
      "  'repr', 'reprex', 'rlang', 'rmarkdown', 'rvest', 'tibble', 'tinytex', 'xfun',\n",
      "  'zoo'\n"
     ]
    }
   ],
   "source": [
    "#instlalling sleuth\n",
    "if (!requireNamespace(\"BiocManager\", quietly = TRUE))\n",
    "    install.packages(\"BiocManager\")\n",
    "BiocManager::install()\n",
    "\n",
    "BiocManager::install(c(\"sleuth\", \"biomaRt\"))\n"
   ]
  },
  {
   "cell_type": "code",
   "execution_count": 9,
   "metadata": {},
   "outputs": [
    {
     "ename": "ERROR",
     "evalue": "Error in library(\"sleuth\"): there is no package called ‘sleuth’\n",
     "output_type": "error",
     "traceback": [
      "Error in library(\"sleuth\"): there is no package called ‘sleuth’\nTraceback:\n",
      "1. library(\"sleuth\")"
     ]
    }
   ],
   "source": [
    "library(\"sleuth\")\n",
    "library(\"biomaRt\")"
   ]
  },
  {
   "cell_type": "code",
   "execution_count": null,
   "metadata": {},
   "outputs": [],
   "source": []
  }
 ],
 "metadata": {
  "kernelspec": {
   "display_name": "R",
   "language": "R",
   "name": "ir"
  },
  "language_info": {
   "codemirror_mode": "r",
   "file_extension": ".r",
   "mimetype": "text/x-r-source",
   "name": "R",
   "pygments_lexer": "r",
   "version": "3.6.0"
  }
 },
 "nbformat": 4,
 "nbformat_minor": 2
}
