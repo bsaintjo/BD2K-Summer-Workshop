{
 "cells": [
  {
   "cell_type": "markdown",
   "metadata": {},
   "source": [
    "To do:\n",
    "    can everyone use curl to download the index?\n",
    "    \n",
    "    show how to set up notebook in R before opening this\n",
    "    \n",
    "    https://docs.anaconda.com/anaconda/navigator/tutorials/r-lang/"
   ]
  },
  {
   "cell_type": "markdown",
   "metadata": {},
   "source": [
    "# Downloading the fastq files"
   ]
  },
  {
   "cell_type": "markdown",
   "metadata": {},
   "source": [
    "Make a new directory on your computer for todays project.\n",
    "\n",
    "On my laptop I am using:\n",
    "\n",
    "    \"/Users/alexis/Desktop/bd2k/\"\n",
    "    \n",
    "Inside of the BD2K folder I will make a folder to save the fastq files.\n",
    "\n",
    "    \"/Users/alexis/Desktop/bd2k/fastq\"\n",
    "    \n",
    "????? download by ?????????"
   ]
  },
  {
   "cell_type": "markdown",
   "metadata": {},
   "source": [
    "condition: samples\n",
    "    \n",
    "euploid:\n",
    "\n",
    "    SRR5494631    SRR5494630\n",
    "    \n",
    "aneuploid:\n",
    "\n",
    "    SRR5494629    SRR5494628 "
   ]
  },
  {
   "cell_type": "markdown",
   "metadata": {},
   "source": [
    "# Running kallisto"
   ]
  },
  {
   "cell_type": "markdown",
   "metadata": {},
   "source": [
    "`kallisto` is the alignment-free transcript quantifier we will be using. In order to download it, follow the link below to the download page for it.\n",
    "\n",
    "Download the version of kallisto for your operating system\n",
    "[Windows](https://github.com/pachterlab/kallisto/releases/download/v0.46.0/kallisto_windows-v0.46.0.zip)\n",
    "[Linux](https://github.com/pachterlab/kallisto/releases/download/v0.46.0/kallisto_linux-v0.46.0.tar.gz)\n",
    "[Mac](https://github.com/pachterlab/kallisto/releases/download/v0.46.0/kallisto_mac-v0.46.0.tar.gz)"
   ]
  },
  {
   "cell_type": "markdown",
   "metadata": {},
   "source": [
    "#### Building the index\n",
    "\n",
    "Before we run kallisto we need to build the index. Download the transcriptome using...\n",
    "\n",
    "`curl -O ftp://ftp.ensembl.org/pub/release-94/fasta/homo_sapiens/cdna/Homo_sapiens.GRCh38.cdna.all.fa.gz`\n",
    "\n",
    "\n",
    "    Usage: kallisto index [arguments] FASTA-files\n",
    "\n",
    "    Required argument:\n",
    "    -i, --index=STRING          Filename for the kallisto index to be constructed \n",
    "\n",
    "    \n",
    "`kallisto index -i \tHomo_sapiens.GRCh38.cdna.all.release-94_k31.idx\tHomo_sapiens.GRCh38.cdna.all.fa.gz`\n",
    "\n",
    "\n",
    "More help for building the index: https://github.com/pachterlab/kallisto-transcriptome-indices"
   ]
  },
  {
   "cell_type": "markdown",
   "metadata": {},
   "source": [
    "#### Running kallisto\n",
    "There are a total of 4 samples and you will need to run kallisto on each sample individually.\n",
    "\n",
    "    Usage: kallisto quant [arguments] FASTQ-files\n",
    "\n",
    "    arguments:\n",
    "    -i, --index=STRING            Filename for the kallisto index to be used for\n",
    "                              quantification\n",
    "                              \n",
    "    -o, --output-dir=STRING       Directory to write output to\n",
    "\n",
    "\n",
    "    -b, --bootstrap-samples=INT   Number of bootstrap samples (default: 0)\n",
    "\n",
    "\n",
    "##### euploid samples\n",
    "\n",
    "`kallisto quant -i Homo_sapiens.GRCh38.cdna.all.release-94_k31.idx -o /path/to/SRR5494631 SRR5494631.fastq -b 100 `\n",
    "\n",
    "`kallisto quant -i Homo_sapiens.GRCh38.cdna.all.release-94_k31.idx -o /path/to/SRR5494630 SRR5494630.fastq -b 100 `\n",
    "\n",
    "##### aneuploid samples\n",
    "\n",
    "`kallisto quant -i Homo_sapiens.GRCh38.cdna.all.release-94_k31.idx -o /path/to/SRR5494629 SRR5494629.fastq -b 100 `\n",
    "\n",
    "`kallisto quant -i Homo_sapiens.GRCh38.cdna.all.release-94_k31.idx -o /path/to/SRR5494628 SRR5494628.fastq -b 100 `\n",
    "\n",
    "\n",
    "\n",
    "\n"
   ]
  },
  {
   "cell_type": "markdown",
   "metadata": {},
   "source": [
    "# Running Sleuth"
   ]
  },
  {
   "cell_type": "code",
   "execution_count": 2,
   "metadata": {},
   "outputs": [
    {
     "name": "stderr",
     "output_type": "stream",
     "text": [
      "Installing package into ‘/home/splicecity/R/x86_64-pc-linux-gnu-library/3.4’\n",
      "(as ‘lib’ is unspecified)\n",
      "Warning message:\n",
      "“package ‘BiocManager’ is not available (for R version 3.4.4)”"
     ]
    },
    {
     "ename": "ERROR",
     "evalue": "Error in loadNamespace(name): there is no package called ‘BiocManager’\n",
     "output_type": "error",
     "traceback": [
      "Error in loadNamespace(name): there is no package called ‘BiocManager’\nTraceback:\n",
      "1. BiocManager::install",
      "2. getExportedValue(pkg, name)",
      "3. asNamespace(ns)",
      "4. getNamespace(ns)",
      "5. tryCatch(loadNamespace(name), error = function(e) stop(e))",
      "6. tryCatchList(expr, classes, parentenv, handlers)",
      "7. tryCatchOne(expr, names, parentenv, handlers[[1L]])",
      "8. value[[3L]](cond)"
     ]
    }
   ],
   "source": [
    "#instlalling sleuth\n",
    "if (!requireNamespace(\"BiocManager\", quietly = TRUE))\n",
    "    install.packages(\"BiocManager\")\n",
    "BiocManager::install()\n",
    "\n",
    "BiocManager::install(c(\"sleuth\", \"biomaRt\"))\n"
   ]
  },
  {
   "cell_type": "code",
   "execution_count": 9,
   "metadata": {},
   "outputs": [
    {
     "ename": "ERROR",
     "evalue": "Error in library(\"sleuth\"): there is no package called ‘sleuth’\n",
     "output_type": "error",
     "traceback": [
      "Error in library(\"sleuth\"): there is no package called ‘sleuth’\nTraceback:\n",
      "1. library(\"sleuth\")"
     ]
    }
   ],
   "source": [
    "library(\"sleuth\")\n",
    "library(\"biomaRt\")"
   ]
  },
  {
   "cell_type": "code",
   "execution_count": null,
   "metadata": {},
   "outputs": [],
   "source": []
  }
 ],
 "metadata": {
  "kernelspec": {
   "display_name": "R",
   "language": "R",
   "name": "ir"
  },
  "language_info": {
   "codemirror_mode": "r",
   "file_extension": ".r",
   "mimetype": "text/x-r-source",
   "name": "R",
   "pygments_lexer": "r",
   "version": "3.4.4"
  }
 },
 "nbformat": 4,
 "nbformat_minor": 2
}
