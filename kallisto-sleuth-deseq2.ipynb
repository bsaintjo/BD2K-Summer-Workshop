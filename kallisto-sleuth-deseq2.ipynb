{
 "cells": [
  {
   "cell_type": "code",
   "execution_count": 3,
   "metadata": {},
   "outputs": [
    {
     "ename": "SyntaxError",
     "evalue": "invalid syntax (<ipython-input-3-04b27588e5c3>, line 1)",
     "output_type": "error",
     "traceback": [
      "\u001b[0;36m  File \u001b[0;32m\"<ipython-input-3-04b27588e5c3>\"\u001b[0;36m, line \u001b[0;32m1\u001b[0m\n\u001b[0;31m    To do:\u001b[0m\n\u001b[0m        ^\u001b[0m\n\u001b[0;31mSyntaxError\u001b[0m\u001b[0;31m:\u001b[0m invalid syntax\n"
     ]
    }
   ],
   "source": [
    "To do:\n",
    "    can everyone use curl to download the index?\n",
    "    \n",
    "    show how to set up notebook in R before opening this\n",
    "    \n",
    "    https://docs.anaconda.com/anaconda/navigator/tutorials/r-lang/"
   ]
  },
  {
   "cell_type": "markdown",
   "metadata": {},
   "source": [
    "# Downloading the fastq files"
   ]
  },
  {
   "cell_type": "markdown",
   "metadata": {},
   "source": [
    "Make a new directory on your computer for todays project.\n",
    "\n",
    "On my laptop I am using:\n",
    "\n",
    "    \"/Users/alexis/Desktop/bd2k/\"\n",
    "    \n",
    "Inside of the BD2K folder I will make a folder to save the fastq files.\n",
    "\n",
    "    \"/Users/alexis/Desktop/bd2k/fastq\"\n",
    "    \n",
    "????? download by ?????????"
   ]
  },
  {
   "cell_type": "markdown",
   "metadata": {},
   "source": [
    "condition: samples\n",
    "    \n",
    "euploid:\n",
    "\n",
    "    SRR5494631    SRR5494630\n",
    "    \n",
    "aneuploid:\n",
    "\n",
    "    SRR5494629    SRR5494628 "
   ]
  },
  {
   "cell_type": "markdown",
   "metadata": {},
   "source": [
    "# Running kallisto"
   ]
  },
  {
   "cell_type": "markdown",
   "metadata": {},
   "source": [
    "Since everyone should now have anaconda installed you install kallisto by running...\n",
    "\n",
    "`conda install kallisto`\n",
    "\n",
    "\n",
    "https://pachterlab.github.io/kallisto/download"
   ]
  },
  {
   "cell_type": "markdown",
   "metadata": {},
   "source": [
    "#### Building the index"
   ]
  },
  {
   "cell_type": "markdown",
   "metadata": {},
   "source": [
    "Before we run kallisto we need to build the index. Download the transcriptome using...\n",
    "\n",
    "`curl -O ftp://ftp.ensembl.org/pub/release-94/fasta/homo_sapiens/cdna/Homo_sapiens.GRCh38.cdna.all.fa.gz`\n",
    "\n",
    "\n",
    "    Usage: kallisto index [arguments] FASTA-files\n",
    "\n",
    "    Required argument:\n",
    "    -i, --index=STRING          Filename for the kallisto index to be constructed \n",
    "\n",
    "    \n",
    "`kallisto index -i \tHomo_sapiens.GRCh38.cdna.all.release-94_k31.idx\tHomo_sapiens.GRCh38.cdna.all.fa.gz`\n",
    "\n",
    "\n",
    "More help for building the index: https://github.com/pachterlab/kallisto-transcriptome-indices"
   ]
  },
  {
   "cell_type": "markdown",
   "metadata": {},
   "source": [
    "#### Running kallisto\n",
    "There are a total of 4 samples and you will need to run kallisto on each sample individually.\n",
    "\n",
    "    Usage: kallisto quant [arguments] FASTQ-files\n",
    "\n",
    "    arguments:\n",
    "    -i, --index=STRING            Filename for the kallisto index to be used for\n",
    "                              quantification\n",
    "                              \n",
    "    -o, --output-dir=STRING       Directory to write output to\n",
    "\n",
    "\n",
    "    -b, --bootstrap-samples=INT   Number of bootstrap samples (default: 0)\n",
    "\n",
    "\n",
    "##### euploid samples\n",
    "\n",
    "`kallisto quant -i Homo_sapiens.GRCh38.cdna.all_transcripts.idx -o /path/to/SRR5494631 SRR5494631.fastq -b 100 `\n",
    "\n",
    "`kallisto quant -i Homo_sapiens.GRCh38.cdna.all_transcripts.idx -o /path/to/SRR5494630 SRR5494630.fastq -b 100 `\n",
    "\n",
    "##### aneuploid samples\n",
    "\n",
    "`kallisto quant -i Homo_sapiens.GRCh38.cdna.all_transcripts.idx -o /path/to/SRR5494629 SRR5494629.fastq -b 100 `\n",
    "\n",
    "`kallisto quant -i Homo_sapiens.GRCh38.cdna.all_transcripts.idx -o /path/to/SRR5494628 SRR5494628.fastq -b 100 `\n",
    "\n",
    "\n",
    "\n"
   ]
  },
  {
   "cell_type": "markdown",
   "metadata": {},
   "source": [
    "# Running sleuth"
   ]
  },
  {
   "cell_type": "code",
   "execution_count": null,
   "metadata": {},
   "outputs": [],
   "source": [
    "Sleuth is an R library"
   ]
  },
  {
   "cell_type": "markdown",
   "metadata": {},
   "source": [
    "# deseq2"
   ]
  },
  {
   "cell_type": "code",
   "execution_count": null,
   "metadata": {},
   "outputs": [],
   "source": [
    "To run deseq2 on our sleuth outputs we need to use tximport\n",
    "\n",
    "\n",
    "We also need to make a file \n",
    "\n",
    "        samples\n",
    "1    RNF43_WT_1\n",
    "2    RNF43_WT_2\n",
    "3    RNF43_WT_3\n",
    "4    RNF43_WT_4\n",
    "5 RNF43_659fs_1\n",
    "6 RNF43_659fs_2\n",
    "7 RNF43_659fs_3\n",
    "8 RNF43_659fs_4\n",
    "\n"
   ]
  },
  {
   "cell_type": "code",
   "execution_count": null,
   "metadata": {},
   "outputs": [],
   "source": [
    "#https://bioconductor.org/packages/release/bioc/vignettes/tximport/inst/doc/tximport.html#kallisto\n",
    "\n",
    "library(tximportData)\n",
    "library(tximport)\n",
    "library(ensembldb)\n",
    "library(EnsDb.Hsapiens.v86)\n",
    "library(DESeqDataSetFromTximport)\n",
    "library(DESeq2)\n",
    "\n",
    "#put the path to your directory that contains your kallisto outputs here \n",
    "\n",
    "dir <- \"/Users/alexis/Desktop/KRASG12V-sleuth/KRAS_G12V_venn_kallisto_out_GRCh38_bootstrap100\"\n",
    "list.files(dir)\n",
    "\n",
    "samples <- read.table(\"/Users/alexis/Desktop/KRASG12V-kallisto-deseq/samples.txt\",header = TRUE)\n",
    "samples\n",
    "\n",
    "files <- file.path(dir, samples$sample, \"abundance.h5\")\n",
    "names(files) <- samples$sample\n",
    "\n",
    "files\n",
    "all(file.exists(files))\n",
    "\n",
    "#make conversion data frame\n",
    "edb <- EnsDb.Hsapiens.v86\n",
    "tx2gene = transcripts(edb , columns=c(\"tx_id\", \"gene_id\"),return.type=\"DataFrame\")\n",
    "head(tx2gene)\n",
    "\n",
    "#import \n",
    "txi.kallisto <- tximport(files, type = \"kallisto\",tx2gene = tx2gene, txOut = FALSE,ignoreTxVersion=TRUE,scaledTPM=TRUE)\n",
    "head(txi.kallisto$counts)\n",
    "\n",
    "\n",
    "sampleTable <- read.table(\"/Users/alexis/Desktop/KRASG12V-kallisto-deseq/samples-table.txt\",header = TRUE)\n",
    "sampleTable\n",
    "\n",
    "rownames(sampleTable) <- colnames(txi.kallisto$counts)\n",
    "sampleTable\n",
    "\n",
    "dds <- DESeqDataSetFromTximport(txi.kallisto, sampleTable, ~condition)\n",
    "\n",
    "directory <- '/Users/alexis/Desktop/KRASG12V-kallisto-deseq'\n",
    "\n",
    "sampleTable<-data.frame(sampleName=sampleFiles, fileName=sampleFiles, condition=sampleCondition)\n",
    "sampleTable\n",
    "\n",
    "#### WT vs G12V\n",
    "sampleName <- c(\"KRAS_G12V\",\"KRAS_G12V\",\"KRAS_G12V\",\"KRAS_WT\",\"KRAS_WT\",\"KRAS_WT\")\n",
    "sampleCondition <- c(\"KRAS_G12V\",\"KRAS_G12V\",\"KRAS_G12V\",\"KRAS_WT\",\"KRAS_WT\",\"KRAS_WT\")\n",
    "\n",
    "sampleTable<-data.frame(sampleName=sampleFiles, fileName=sampleFiles, condition=sampleCondition)\n",
    "sampleTable\n",
    "\n",
    "dds <- DESeqDataSetFromTximport(txi.kallisto, sampleTable, ~condition)\n",
    "\n",
    "dds\n",
    "\n",
    "colData(dds)$condition<-factor(colData(dds)$condition, levels=c('KRAS_WT','KRAS_G12V'))\n",
    "\n",
    "WT_G12V_dds<-DESeq(dds)\n",
    "\n",
    "WT_G12V_res<-results(WT_G12V_dds)\n",
    "WT_G12V_res<-WT_G12V_res[order(WT_G12V_res$padj),]\n",
    "head(WT_G12V_res)\n",
    "\n",
    "\n",
    "\n",
    "## Merge with normalized count data\n",
    "WT_G12V_resdata <- merge(as.data.frame(WT_G12V_res), as.data.frame(counts(WT_G12V_dds, normalized=TRUE)), by=\"row.names\", sort=FALSE)\n",
    "names(WT_G12V_resdata)[1] <- \"Gene\"\n",
    "head(WT_G12V_resdata)\n",
    "mcols(WT_G12V_res,use.names=TRUE)\n",
    "write.csv(as.data.frame(WT_G12V_res),file='WT_KRAS_G12V_res_results_deseq2.csv')\n",
    "write.csv(as.data.frame(WT_G12V_resdata),file='WT_KRAS_G12V_res_results_deseq2_counts.csv')\n",
    "\n",
    "\n"
   ]
  }
 ],
 "metadata": {
  "kernelspec": {
   "display_name": "Python 3",
   "language": "python",
   "name": "python3"
  },
  "language_info": {
   "codemirror_mode": {
    "name": "ipython",
    "version": 3
   },
   "file_extension": ".py",
   "mimetype": "text/x-python",
   "name": "python",
   "nbconvert_exporter": "python",
   "pygments_lexer": "ipython3",
   "version": "3.6.8"
  }
 },
 "nbformat": 4,
 "nbformat_minor": 2
}
