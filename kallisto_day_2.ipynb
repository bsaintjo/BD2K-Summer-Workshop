{
 "cells": [
  {
   "cell_type": "markdown",
   "metadata": {},
   "source": [
    "# DAY 2"
   ]
  },
  {
   "cell_type": "markdown",
   "metadata": {},
   "source": [
    "# Downloading the fastq files"
   ]
  },
  {
   "cell_type": "markdown",
   "metadata": {},
   "source": [
    "Make a new directory on your computer for todays project.\n",
    "\n",
    "On my laptop I am using:\n",
    "\n",
    "    \"/Users/alexis/Desktop/bd2k/\"\n",
    "    \n",
    "Inside of the BD2K folder I will make a folder to save the fastq files.\n",
    "\n",
    "    \"/Users/alexis/Desktop/bd2k/fastq\"\n",
    "  \n",
    "`curl -O https://users.soe.ucsc.edu/~bsaintjo/sacCer3_aligned/SRR5494631.fastq.gz`\n",
    "\n",
    "`curl -O https://users.soe.ucsc.edu/~bsaintjo/sacCer3_aligned/SRR5494630.fastq.gz`\n",
    "\n",
    "`curl -O https://users.soe.ucsc.edu/~bsaintjo/sacCer3_aligned/SRR5494629.fastq.gz`\n",
    "\n",
    "\n",
    "`curl -O https://users.soe.ucsc.edu/~bsaintjo/sacCer3_aligned/SRR5494628.fastq.gz`\n"
   ]
  },
  {
   "cell_type": "markdown",
   "metadata": {},
   "source": [
    "Each file represents a condition that we want to test on.\n",
    "\n",
    "euploid:\n",
    "\n",
    "    SRR5494631    SRR5494630\n",
    "    \n",
    "aneuploid:\n",
    "\n",
    "    SRR5494629    SRR5494628 "
   ]
  },
  {
   "cell_type": "markdown",
   "metadata": {},
   "source": [
    "# Running kallisto"
   ]
  },
  {
   "cell_type": "markdown",
   "metadata": {},
   "source": [
    "https://pachterlab.github.io/kallisto/download\n",
    "\n",
    "Download the latest version of `kallisto` for your Operating System and place it into the directory"
   ]
  },
  {
   "cell_type": "markdown",
   "metadata": {},
   "source": [
    "### Index files\n",
    "kallisto normally requires an index relating the genes to the sequence however, the index for our genome has already been built, so download the index and place it into the same directory.\n",
    "\n",
    "Download the index\n",
    "https://github.com/pachterlab/kallisto-transcriptome-indices/releases/download/94/Saccharomyces_cerevisiae.R64-1-1.cdna.all.release-94_k31.idx.gz"
   ]
  },
  {
   "cell_type": "markdown",
   "metadata": {},
   "source": [
    "#### Running kallisto\n",
    "There are a total of 4 samples and you will need to run kallisto on each sample individually.\n",
    "\n",
    "    Usage: kallisto quant [arguments] FASTQ-files\n",
    "\n",
    "    arguments:\n",
    "    -i, --index=STRING            Filename for the kallisto index to be used for\n",
    "                              quantification\n",
    "                              \n",
    "    -o, --output-dir=STRING       Directory to write output to\n",
    "\n",
    "\n",
    "    -b, --bootstrap-samples=INT   Number of bootstrap samples (default: 0)\n",
    "\n",
    "\n",
    "Make sure you are in your fastq directory.\n",
    "Also, you need to make a `bd2k/kallisto_outputs directory` to put the kallisto outputs in\n",
    "\n",
    "##### euploid samples\n",
    "\n",
    "`kallisto quant -i /Users/alexis/Desktop/bd2k/Saccharomyces_cerevisiae.R64-1-1.cdna.all.release-94_k31.idx -o /Users/alexis/Desktop/bd2k/kallisto_outputs/SRR5494631 --single -b 100 -l 50 -s 0 -t 2  SRR5494631.fastq.gz `\n",
    "\n",
    "`kallisto quant -i /Users/alexis/Desktop/bd2k/Saccharomyces_cerevisiae.R64-1-1.cdna.all.release-94_k31.idx -o /Users/alexis/Desktop/bd2k/kallisto_outputs/SRR5494630 --single -b 100 -l 50 -s 0 -t 2  SRR5494630.fastq.gz`\n",
    "##### aneuploid samples\n",
    "\n",
    "`kallisto quant -i /Users/alexis/Desktop/bd2k/Saccharomyces_cerevisiae.R64-1-1.cdna.all.release-94_k31.idx -o /Users/alexis/Desktop/bd2k/kallisto_outputs/SRR5494629 --single -b 100 -l 50 -s 0 -t 2  SRR5494629.fastq.gz`\n",
    "\n",
    "`kallisto quant -i /Users/alexis/Desktop/bd2k/Saccharomyces_cerevisiae.R64-1-1.cdna.all.release-94_k31.idx -o /Users/alexis/Desktop/bd2k/kallisto_outputs/SRR5494628 --single -b 100 -l 50 -s 0 -t 2  SRR5494628.fastq.gz`"
   ]
  },
  {
   "cell_type": "markdown",
   "metadata": {},
   "source": [
    "# Using pandas to compare the two sets"
   ]
  },
  {
   "cell_type": "markdown",
   "metadata": {},
   "source": [
    "You should now have four folders, with each containing an `abundance.tsv` file. Using pandas we can now load the data using commands similar to what you have done before. Look at the previous notebooks and start to use `pandas` to process the data and find differentially expressed genes.\n",
    "\n",
    "Lets look at a single output file..."
   ]
  },
  {
   "cell_type": "code",
   "execution_count": 6,
   "metadata": {},
   "outputs": [
    {
     "data": {
      "text/html": [
       "<div>\n",
       "<style scoped>\n",
       "    .dataframe tbody tr th:only-of-type {\n",
       "        vertical-align: middle;\n",
       "    }\n",
       "\n",
       "    .dataframe tbody tr th {\n",
       "        vertical-align: top;\n",
       "    }\n",
       "\n",
       "    .dataframe thead th {\n",
       "        text-align: right;\n",
       "    }\n",
       "</style>\n",
       "<table border=\"1\" class=\"dataframe\">\n",
       "  <thead>\n",
       "    <tr style=\"text-align: right;\">\n",
       "      <th></th>\n",
       "      <th>target_id</th>\n",
       "      <th>length</th>\n",
       "      <th>eff_length</th>\n",
       "      <th>est_counts</th>\n",
       "      <th>tpm</th>\n",
       "    </tr>\n",
       "  </thead>\n",
       "  <tbody>\n",
       "    <tr>\n",
       "      <th>0</th>\n",
       "      <td>YBR024W_mRNA</td>\n",
       "      <td>906</td>\n",
       "      <td>707.00000</td>\n",
       "      <td>544.0000</td>\n",
       "      <td>36.9940</td>\n",
       "    </tr>\n",
       "    <tr>\n",
       "      <th>1</th>\n",
       "      <td>YDL245C_mRNA</td>\n",
       "      <td>1704</td>\n",
       "      <td>1505.00000</td>\n",
       "      <td>902.1420</td>\n",
       "      <td>28.8197</td>\n",
       "    </tr>\n",
       "    <tr>\n",
       "      <th>2</th>\n",
       "      <td>YBR232C_mRNA</td>\n",
       "      <td>360</td>\n",
       "      <td>161.00000</td>\n",
       "      <td>46.2893</td>\n",
       "      <td>13.8231</td>\n",
       "    </tr>\n",
       "    <tr>\n",
       "      <th>3</th>\n",
       "      <td>YDR320W-B_mRNA</td>\n",
       "      <td>138</td>\n",
       "      <td>6.07083</td>\n",
       "      <td>0.0000</td>\n",
       "      <td>0.0000</td>\n",
       "    </tr>\n",
       "    <tr>\n",
       "      <th>4</th>\n",
       "      <td>YBR021W_mRNA</td>\n",
       "      <td>1902</td>\n",
       "      <td>1703.00000</td>\n",
       "      <td>426.0000</td>\n",
       "      <td>12.0267</td>\n",
       "    </tr>\n",
       "  </tbody>\n",
       "</table>\n",
       "</div>"
      ],
      "text/plain": [
       "        target_id  length  eff_length  est_counts      tpm\n",
       "0    YBR024W_mRNA     906   707.00000    544.0000  36.9940\n",
       "1    YDL245C_mRNA    1704  1505.00000    902.1420  28.8197\n",
       "2    YBR232C_mRNA     360   161.00000     46.2893  13.8231\n",
       "3  YDR320W-B_mRNA     138     6.07083      0.0000   0.0000\n",
       "4    YBR021W_mRNA    1902  1703.00000    426.0000  12.0267"
      ]
     },
     "execution_count": 6,
     "metadata": {},
     "output_type": "execute_result"
    }
   ],
   "source": [
    "import pandas as pd\n",
    "SRR5494628 = pd.read_csv(\"/Users/alexis/Desktop/bd2k/kallisto_outputs/SRR5494628/abundance.tsv\", sep=\"\\t\")\n",
    "SRR5494628.head()"
   ]
  },
  {
   "cell_type": "markdown",
   "metadata": {},
   "source": [
    "We are mainly interested in the target_id and tpm column. In order to make processing easier with `pandas` we can use the following shell commands to combine the columns we want from the four files into one main file. Take a look at these commands and see if you recognize what is happening. Try using `man` to look at what the command actually does.\n",
    "\n",
    "```\n",
    "cd kallisto_outputs/\n",
    "\n",
    "paste */abundance.tsv | cut -f 1,2,5,10,15,20 > tpms_all_samples.tsv\n",
    "\n",
    "ls -1 */abundance.tsv | perl -ne 'chomp $_; if ($_ =~ /(\\S+)\\/abundance\\.tsv/){print \"\\t$1\"}' | perl -ne 'print \"target_id\\tlength$_\\n\"' > header.tsv\n",
    "\n",
    "cat header.tsv tpms_all_samples.tsv | grep -v \"tpm\" > tpms_all_samples.tsv2\n",
    "\n",
    "mv tpms_all_samples.tsv2 tpms_all_samples.tsv\n",
    "\n",
    "rm -f header.tsv\n",
    "```"
   ]
  },
  {
   "cell_type": "markdown",
   "metadata": {},
   "source": [
    "Now the 4 files are combined into onw and the sample names are the column names for their respective columns."
   ]
  },
  {
   "cell_type": "code",
   "execution_count": 7,
   "metadata": {},
   "outputs": [
    {
     "data": {
      "text/html": [
       "<div>\n",
       "<style scoped>\n",
       "    .dataframe tbody tr th:only-of-type {\n",
       "        vertical-align: middle;\n",
       "    }\n",
       "\n",
       "    .dataframe tbody tr th {\n",
       "        vertical-align: top;\n",
       "    }\n",
       "\n",
       "    .dataframe thead th {\n",
       "        text-align: right;\n",
       "    }\n",
       "</style>\n",
       "<table border=\"1\" class=\"dataframe\">\n",
       "  <thead>\n",
       "    <tr style=\"text-align: right;\">\n",
       "      <th></th>\n",
       "      <th>target_id</th>\n",
       "      <th>length</th>\n",
       "      <th>SRR5494628</th>\n",
       "      <th>SRR5494629</th>\n",
       "      <th>SRR5494630</th>\n",
       "      <th>SRR5494631</th>\n",
       "    </tr>\n",
       "  </thead>\n",
       "  <tbody>\n",
       "    <tr>\n",
       "      <th>0</th>\n",
       "      <td>YBR024W_mRNA</td>\n",
       "      <td>906</td>\n",
       "      <td>36.9940</td>\n",
       "      <td>30.9409</td>\n",
       "      <td>37.3838</td>\n",
       "      <td>38.7345</td>\n",
       "    </tr>\n",
       "    <tr>\n",
       "      <th>1</th>\n",
       "      <td>YDL245C_mRNA</td>\n",
       "      <td>1704</td>\n",
       "      <td>28.8197</td>\n",
       "      <td>30.2001</td>\n",
       "      <td>12.2243</td>\n",
       "      <td>12.9081</td>\n",
       "    </tr>\n",
       "    <tr>\n",
       "      <th>2</th>\n",
       "      <td>YBR232C_mRNA</td>\n",
       "      <td>360</td>\n",
       "      <td>13.8231</td>\n",
       "      <td>10.0286</td>\n",
       "      <td>13.3590</td>\n",
       "      <td>15.9174</td>\n",
       "    </tr>\n",
       "    <tr>\n",
       "      <th>3</th>\n",
       "      <td>YDR320W-B_mRNA</td>\n",
       "      <td>138</td>\n",
       "      <td>0.0000</td>\n",
       "      <td>0.0000</td>\n",
       "      <td>0.0000</td>\n",
       "      <td>0.0000</td>\n",
       "    </tr>\n",
       "    <tr>\n",
       "      <th>4</th>\n",
       "      <td>YBR021W_mRNA</td>\n",
       "      <td>1902</td>\n",
       "      <td>12.0267</td>\n",
       "      <td>10.0594</td>\n",
       "      <td>17.3070</td>\n",
       "      <td>17.2506</td>\n",
       "    </tr>\n",
       "  </tbody>\n",
       "</table>\n",
       "</div>"
      ],
      "text/plain": [
       "        target_id  length  SRR5494628  SRR5494629  SRR5494630  SRR5494631\n",
       "0    YBR024W_mRNA     906     36.9940     30.9409     37.3838     38.7345\n",
       "1    YDL245C_mRNA    1704     28.8197     30.2001     12.2243     12.9081\n",
       "2    YBR232C_mRNA     360     13.8231     10.0286     13.3590     15.9174\n",
       "3  YDR320W-B_mRNA     138      0.0000      0.0000      0.0000      0.0000\n",
       "4    YBR021W_mRNA    1902     12.0267     10.0594     17.3070     17.2506"
      ]
     },
     "execution_count": 7,
     "metadata": {},
     "output_type": "execute_result"
    }
   ],
   "source": [
    "tpms_all_samples= pd.read_csv(\"/Users/alexis/Desktop/bd2k/kallisto_outputs/tpms_all_samples.tsv\", sep=\"\\t\")\n",
    "tpms_all_samples.head()"
   ]
  },
  {
   "cell_type": "code",
   "execution_count": 8,
   "metadata": {},
   "outputs": [],
   "source": [
    "#lets make lists to map the sample names to the condition\n",
    "euploid = ['SRR5494631','SRR5494630']\n",
    "aneuploid = ['SRR5494629','SRR5494628']"
   ]
  },
  {
   "cell_type": "code",
   "execution_count": 13,
   "metadata": {},
   "outputs": [
    {
     "data": {
      "text/html": [
       "<div>\n",
       "<style scoped>\n",
       "    .dataframe tbody tr th:only-of-type {\n",
       "        vertical-align: middle;\n",
       "    }\n",
       "\n",
       "    .dataframe tbody tr th {\n",
       "        vertical-align: top;\n",
       "    }\n",
       "\n",
       "    .dataframe thead th {\n",
       "        text-align: right;\n",
       "    }\n",
       "</style>\n",
       "<table border=\"1\" class=\"dataframe\">\n",
       "  <thead>\n",
       "    <tr style=\"text-align: right;\">\n",
       "      <th></th>\n",
       "      <th>target_id</th>\n",
       "      <th>length</th>\n",
       "      <th>SRR5494628</th>\n",
       "      <th>SRR5494629</th>\n",
       "      <th>SRR5494630</th>\n",
       "      <th>SRR5494631</th>\n",
       "      <th>euploid_average</th>\n",
       "    </tr>\n",
       "  </thead>\n",
       "  <tbody>\n",
       "    <tr>\n",
       "      <th>0</th>\n",
       "      <td>YBR024W_mRNA</td>\n",
       "      <td>906</td>\n",
       "      <td>36.9940</td>\n",
       "      <td>30.9409</td>\n",
       "      <td>37.3838</td>\n",
       "      <td>38.7345</td>\n",
       "      <td>38.05915</td>\n",
       "    </tr>\n",
       "    <tr>\n",
       "      <th>1</th>\n",
       "      <td>YDL245C_mRNA</td>\n",
       "      <td>1704</td>\n",
       "      <td>28.8197</td>\n",
       "      <td>30.2001</td>\n",
       "      <td>12.2243</td>\n",
       "      <td>12.9081</td>\n",
       "      <td>12.56620</td>\n",
       "    </tr>\n",
       "    <tr>\n",
       "      <th>2</th>\n",
       "      <td>YBR232C_mRNA</td>\n",
       "      <td>360</td>\n",
       "      <td>13.8231</td>\n",
       "      <td>10.0286</td>\n",
       "      <td>13.3590</td>\n",
       "      <td>15.9174</td>\n",
       "      <td>14.63820</td>\n",
       "    </tr>\n",
       "    <tr>\n",
       "      <th>3</th>\n",
       "      <td>YDR320W-B_mRNA</td>\n",
       "      <td>138</td>\n",
       "      <td>0.0000</td>\n",
       "      <td>0.0000</td>\n",
       "      <td>0.0000</td>\n",
       "      <td>0.0000</td>\n",
       "      <td>0.00000</td>\n",
       "    </tr>\n",
       "    <tr>\n",
       "      <th>4</th>\n",
       "      <td>YBR021W_mRNA</td>\n",
       "      <td>1902</td>\n",
       "      <td>12.0267</td>\n",
       "      <td>10.0594</td>\n",
       "      <td>17.3070</td>\n",
       "      <td>17.2506</td>\n",
       "      <td>17.27880</td>\n",
       "    </tr>\n",
       "  </tbody>\n",
       "</table>\n",
       "</div>"
      ],
      "text/plain": [
       "        target_id  length  SRR5494628  SRR5494629  SRR5494630  SRR5494631  \\\n",
       "0    YBR024W_mRNA     906     36.9940     30.9409     37.3838     38.7345   \n",
       "1    YDL245C_mRNA    1704     28.8197     30.2001     12.2243     12.9081   \n",
       "2    YBR232C_mRNA     360     13.8231     10.0286     13.3590     15.9174   \n",
       "3  YDR320W-B_mRNA     138      0.0000      0.0000      0.0000      0.0000   \n",
       "4    YBR021W_mRNA    1902     12.0267     10.0594     17.3070     17.2506   \n",
       "\n",
       "   euploid_average  \n",
       "0         38.05915  \n",
       "1         12.56620  \n",
       "2         14.63820  \n",
       "3          0.00000  \n",
       "4         17.27880  "
      ]
     },
     "execution_count": 13,
     "metadata": {},
     "output_type": "execute_result"
    }
   ],
   "source": [
    "tpms_all_samples['euploid_average'] = tpms_all_samples[euploid].astype(float).mean(axis=1)\n",
    "tpms_all_samples.head()"
   ]
  },
  {
   "cell_type": "markdown",
   "metadata": {},
   "source": [
    "Now that you know how to take the average of the 2 euploid samples, you can find the average of the two aneuploid samples. Then you can compare the average transcript expression between each condition. Try taking the difference or the ratio of the two.  "
   ]
  }
 ],
 "metadata": {
  "kernelspec": {
   "display_name": "Python 3",
   "language": "python",
   "name": "python3"
  },
  "language_info": {
   "codemirror_mode": {
    "name": "ipython",
    "version": 3
   },
   "file_extension": ".py",
   "mimetype": "text/x-python",
   "name": "python",
   "nbconvert_exporter": "python",
   "pygments_lexer": "ipython3",
   "version": "3.7.3"
  }
 },
 "nbformat": 4,
 "nbformat_minor": 2
}
