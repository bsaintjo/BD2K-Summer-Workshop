{
 "cells": [
  {
   "cell_type": "markdown",
   "metadata": {},
   "source": [
    "# DAY 2\n",
    "\n",
    "In order to do differential expression analysis, we need to use another programming language called R. Anaconda provides a convienient way provide an environment with R. Follow the link below and follow the tutorial to build a Python and R environment so you can run the rest of the code.\n",
    "    \n",
    "    https://docs.anaconda.com/anaconda/navigator/tutorials/r-lang/"
   ]
  },
  {
   "cell_type": "markdown",
   "metadata": {},
   "source": [
    "# Downloading the fastq files"
   ]
  },
  {
   "cell_type": "markdown",
   "metadata": {},
   "source": [
    "Make a new directory on your computer for todays project.\n",
    "\n",
    "On my laptop I am using:\n",
    "\n",
    "    \"/Users/alexis/Desktop/bd2k/\"\n",
    "    \n",
    "Inside of the BD2K folder I will make a folder to save the fastq files.\n",
    "\n",
    "    \"/Users/alexis/Desktop/bd2k/fastq\"\n",
    "  \n",
    "`curl -O https://users.soe.ucsc.edu/~bsaintjo/sacCer3_aligned/SRR5494631.fastq.gz`\n",
    "\n",
    "`curl -O https://users.soe.ucsc.edu/~bsaintjo/sacCer3_aligned/SRR5494630.fastq.gz`\n",
    "\n",
    "`curl -O https://users.soe.ucsc.edu/~bsaintjo/sacCer3_aligned/SRR5494629.fastq.gz`\n",
    "\n",
    "\n",
    "`curl -O https://users.soe.ucsc.edu/~bsaintjo/sacCer3_aligned/SRR5494628.fastq.gz`\n"
   ]
  },
  {
   "cell_type": "markdown",
   "metadata": {},
   "source": [
    "Each file represents a condition that we want to test on.\n",
    "\n",
    "euploid:\n",
    "\n",
    "    SRR5494631    SRR5494630\n",
    "    \n",
    "aneuploid:\n",
    "\n",
    "    SRR5494629    SRR5494628 "
   ]
  },
  {
   "cell_type": "markdown",
   "metadata": {},
   "source": [
    "# Running kallisto"
   ]
  },
  {
   "cell_type": "markdown",
   "metadata": {},
   "source": [
    "Since everyone should now have anaconda installed you install kallisto by running...\n",
    "\n",
    "https://pachterlab.github.io/kallisto/download\n",
    "\n",
    "Download the latest version of `kallisto` for your Operating System and place it into the directory"
   ]
  },
  {
   "cell_type": "markdown",
   "metadata": {},
   "source": [
    "### Index files\n",
    "kallisto normally requires an index relating the genes to the sequence however, the index for our genome has already been built, so download the index and place it into the same directory.\n",
    "\n",
    "Download the index\n",
    "https://github.com/pachterlab/kallisto-transcriptome-indices/releases/download/94/Saccharomyces_cerevisiae.R64-1-1.cdna.all.release-94_k31.idx.gz"
   ]
  },
  {
   "cell_type": "markdown",
   "metadata": {},
   "source": [
    "#### Running kallisto\n",
    "There are a total of 4 samples and you will need to run kallisto on each sample individually.\n",
    "\n",
    "    Usage: kallisto quant [arguments] FASTQ-files\n",
    "\n",
    "    arguments:\n",
    "    -i, --index=STRING            Filename for the kallisto index to be used for\n",
    "                              quantification\n",
    "                              \n",
    "    -o, --output-dir=STRING       Directory to write output to\n",
    "\n",
    "\n",
    "    -b, --bootstrap-samples=INT   Number of bootstrap samples (default: 0)\n",
    "\n",
    "*from within the fastq directory*\n",
    "\n",
    "##### euploid samples\n",
    "\n",
    "`kallisto quant -i /Users/alexis/Desktop/bd2k/Saccharomyces_cerevisiae.R64-1-1.cdna.all.release-94_k31.idx -o /Users/alexis/Desktop/bd2k/kallisto_outputs/SRR5494631 --single -b 100 -l 50 -s 0 -t 2  SRR5494631.fastq.gz `\n",
    "\n",
    "`kallisto quant -i /Users/alexis/Desktop/bd2k/Saccharomyces_cerevisiae.R64-1-1.cdna.all.release-94_k31.idx -o /Users/alexis/Desktop/bd2k/kallisto_outputs/SRR5494630 --single -b 100 -l 50 -s 0 -t 2  SRR5494630.fastq.gz`\n",
    "##### aneuploid samples\n",
    "\n",
    "`kallisto quant -i /Users/alexis/Desktop/bd2k/Saccharomyces_cerevisiae.R64-1-1.cdna.all.release-94_k31.idx -o /Users/alexis/Desktop/bd2k/kallisto_outputs/SRR5494629 --single -b 100 -l 50 -s 0 -t 2  SRR5494629.fastq.gz`\n",
    "\n",
    "`kallisto quant -i /Users/alexis/Desktop/bd2k/Saccharomyces_cerevisiae.R64-1-1.cdna.all.release-94_k31.idx -o /Users/alexis/Desktop/bd2k/kallisto_outputs/SRR5494628 --single -b 100 -l 50 -s 0 -t 2  SRR5494628.fastq.gz`"
   ]
  },
  {
   "cell_type": "markdown",
   "metadata": {},
   "source": [
    "# Using pandas to compare the two sets"
   ]
  },
  {
   "cell_type": "markdown",
   "metadata": {},
   "source": [
    "You should now have for folders, with each containing an `abundance.tsv` file. Using pandas we can now load the data using commands similar to what you have done before. Look at the previous notebooks and start to use `pandas` to process the data and find differentially expressed genes."
   ]
  },
  {
   "cell_type": "markdown",
   "metadata": {},
   "source": [
    "In order to make processing easier with `pandas` we can use these shell commands to combine the columns we want from the four files into one main file. Take a look at these commands and see if you recognize what is happening. Try using `man` to look at what the command actually does.\n",
    "\n",
    "```\n",
    "cd kallisto_outputs/\n",
    "\n",
    "paste */abundance.tsv | cut -f 1,2,5,10,15,20 > tpms_all_samples.tsv\n",
    "\n",
    "ls -1 */abundance.tsv | perl -ne 'chomp $_; if ($_ =~ /(\\S+)\\/abundance\\.tsv/){print \"\\t$1\"}' | perl -ne 'print \"target_id\\tlength$_\\n\"' > header.tsv\n",
    "\n",
    "cat header.tsv tpms_all_samples.tsv | grep -v \"tpm\" > tpms_all_samples.tsv2\n",
    "\n",
    "mv tpms_all_samples.tsv2 tpms_all_samples.tsv\n",
    "\n",
    "rm -f header.tsv\n",
    "```"
   ]
  },
  {
   "cell_type": "code",
   "execution_count": null,
   "metadata": {},
   "outputs": [],
   "source": []
  }
 ],
 "metadata": {
  "kernelspec": {
   "display_name": "Python 3",
   "language": "python",
   "name": "python3"
  },
  "language_info": {
   "codemirror_mode": {
    "name": "ipython",
    "version": 3
   },
   "file_extension": ".py",
   "mimetype": "text/x-python",
   "name": "python",
   "nbconvert_exporter": "python",
   "pygments_lexer": "ipython3",
   "version": "3.6.7"
  }
 },
 "nbformat": 4,
 "nbformat_minor": 2
}
